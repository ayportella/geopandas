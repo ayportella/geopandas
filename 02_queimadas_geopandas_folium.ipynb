{
  "nbformat": 4,
  "nbformat_minor": 0,
  "metadata": {
    "colab": {
      "provenance": [],
      "authorship_tag": "ABX9TyN74Jx4u+3BxLO7wRUU9Dqm",
      "include_colab_link": true
    },
    "kernelspec": {
      "name": "python3",
      "display_name": "Python 3"
    },
    "language_info": {
      "name": "python"
    }
  },
  "cells": [
    {
      "cell_type": "markdown",
      "metadata": {
        "id": "view-in-github",
        "colab_type": "text"
      },
      "source": [
        "<a href=\"https://colab.research.google.com/github/ayportella/geopandas/blob/main/02_queimadas_geopandas_folium.ipynb\" target=\"_parent\"><img src=\"https://colab.research.google.com/assets/colab-badge.svg\" alt=\"Open In Colab\"/></a>"
      ]
    },
    {
      "cell_type": "markdown",
      "source": [
        "[link do colab para o projeto de visualização de queimadas](https://colab.research.google.com/drive/1i1ezmvMRngMSHwLTemrSWX8Pnvh04Mcg#scrollTo=a1AuoZNZ9Iz3)"
      ],
      "metadata": {
        "id": "Y1bOZwsP-nrX"
      }
    }
  ]
}